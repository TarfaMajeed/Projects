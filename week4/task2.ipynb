{
 "cells": [
  {
   "cell_type": "code",
   "execution_count": 49,
   "id": "55303762-360c-4ecb-9468-3134e8e939a4",
   "metadata": {},
   "outputs": [],
   "source": [
    "import spacy\n",
    "import pprint                  #print every word in new line\n",
    "import statistics \n",
    "import nltk\n",
    "from nltk.tokenize import PunktSentenceTokenizer\n",
    "from nltk import ne_chunk\n",
    "from nltk.corpus import wordnet \n",
    "from nltk.tokenize import word_tokenize"
   ]
  },
  {
   "cell_type": "code",
   "execution_count": 50,
   "id": "38db555f-451e-4125-be8b-c985a4366492",
   "metadata": {},
   "outputs": [],
   "source": [
    "pos=['love','happy','success','satisfied','enjoying','share','care','joy','calm','beautiful','cofident','encourage']\n",
    "neg=['hate','disaster','sad','embarassed','sucide','murder','kill','Gun','dead','grave','graveyard']"
   ]
  },
  {
   "cell_type": "code",
   "execution_count": 51,
   "id": "915122cd-dfae-42b5-bf9d-a03ae3c912ca",
   "metadata": {},
   "outputs": [
    {
     "data": {
      "text/plain": [
       "['love',\n",
       " 'happy',\n",
       " 'success',\n",
       " 'satisfied',\n",
       " 'enjoying',\n",
       " 'share',\n",
       " 'care',\n",
       " 'joy',\n",
       " 'calm',\n",
       " 'beautiful',\n",
       " 'cofident',\n",
       " 'encourage']"
      ]
     },
     "execution_count": 51,
     "metadata": {},
     "output_type": "execute_result"
    }
   ],
   "source": [
    "pos"
   ]
  },
  {
   "cell_type": "code",
   "execution_count": 52,
   "id": "5732c5fb-7737-49f4-8cbf-4977ed23397a",
   "metadata": {},
   "outputs": [
    {
     "data": {
      "text/plain": [
       "['hate',\n",
       " 'disaster',\n",
       " 'sad',\n",
       " 'embarassed',\n",
       " 'sucide',\n",
       " 'murder',\n",
       " 'kill',\n",
       " 'Gun',\n",
       " 'dead',\n",
       " 'grave',\n",
       " 'graveyard']"
      ]
     },
     "execution_count": 52,
     "metadata": {},
     "output_type": "execute_result"
    }
   ],
   "source": [
    "neg"
   ]
  },
  {
   "cell_type": "code",
   "execution_count": 53,
   "id": "f99085ef-b231-42c0-b9b3-e478165109fc",
   "metadata": {},
   "outputs": [
    {
     "name": "stdout",
     "output_type": "stream",
     "text": [
      "{'eff', 'have_it_off', 'dearest', 'bed', 'sexual_love', 'get_it_on', 'bang', 'have_sex', 'have_intercourse', 'have_it_away', 'be_intimate', 'screw', 'make_love', 'have_a_go_at_it', 'get_laid', 'dear', 'know', 'love_life', 'bonk', 'passion', 'roll_in_the_hay', 'do_it', 'make_out', 'honey', 'lovemaking', 'lie_with', 'love', 'enjoy', 'sleep_with', 'jazz', 'hump', 'making_love', 'beloved', 'erotic_love', 'sleep_together', 'fuck'}\n"
     ]
    }
   ],
   "source": [
    "# finding synonyms\n",
    "synonyms=[]\n",
    "\n",
    "for syn in wordnet.synsets(pos[0]):\n",
    "    for i in syn.lemmas():\n",
    "        synonyms.append(i.name())\n",
    "\n",
    "print(set(synonyms))"
   ]
  },
  {
   "cell_type": "code",
   "execution_count": 54,
   "id": "6afb6174-54df-4056-a5d8-18c2f31aeb2d",
   "metadata": {},
   "outputs": [
    {
     "name": "stdin",
     "output_type": "stream",
     "text": [
      "enter your string here: ruqia is very sad\n"
     ]
    },
    {
     "name": "stdout",
     "output_type": "stream",
     "text": [
      "ruqia is very sad\n"
     ]
    }
   ],
   "source": [
    "# taking the input sentence here\n",
    "sen=input(\"enter your string here:\")\n",
    "\n",
    "print(sen)"
   ]
  },
  {
   "cell_type": "code",
   "execution_count": 55,
   "id": "2b70d103-ae6c-4bd2-8174-f1f11eee3813",
   "metadata": {},
   "outputs": [
    {
     "name": "stdout",
     "output_type": "stream",
     "text": [
      "['ruqia is very sad']\n"
     ]
    }
   ],
   "source": [
    "custom_sent_tokenizer=PunktSentenceTokenizer(sen)\n",
    "tokenized=custom_sent_tokenizer.tokenize(sen)\n",
    "print(tokenized)"
   ]
  },
  {
   "cell_type": "code",
   "execution_count": 56,
   "id": "584b9e3d-b502-43b4-b376-d0c7eb5b0ea2",
   "metadata": {},
   "outputs": [
    {
     "name": "stdout",
     "output_type": "stream",
     "text": [
      "['ruqia', 'is', 'very', 'sad']\n"
     ]
    }
   ],
   "source": [
    "tokenized=word_tokenize(sen.lower())\n",
    "print(tokenized)"
   ]
  },
  {
   "cell_type": "code",
   "execution_count": 60,
   "id": "6280c6ef-c647-4bc0-b659-b30c8239f2a2",
   "metadata": {},
   "outputs": [
    {
     "ename": "AttributeError",
     "evalue": "'set' object has no attribute 'items'",
     "output_type": "error",
     "traceback": [
      "\u001b[1;31m---------------------------------------------------------------------------\u001b[0m",
      "\u001b[1;31mAttributeError\u001b[0m                            Traceback (most recent call last)",
      "Cell \u001b[1;32mIn[60], line 6\u001b[0m\n\u001b[0;32m      4\u001b[0m negative_count\u001b[38;5;241m=\u001b[39m\u001b[38;5;241m0\u001b[39m\n\u001b[0;32m      5\u001b[0m \u001b[38;5;28;01mfor\u001b[39;00m token \u001b[38;5;129;01min\u001b[39;00m tokenized:\n\u001b[1;32m----> 6\u001b[0m     \u001b[38;5;28;01mfor\u001b[39;00m k,v \u001b[38;5;129;01min\u001b[39;00m \u001b[43mpositive_dict\u001b[49m\u001b[38;5;241;43m.\u001b[39;49m\u001b[43mitems\u001b[49m():\n\u001b[0;32m      7\u001b[0m         \u001b[38;5;28;01mif\u001b[39;00m token\u001b[38;5;241m==\u001b[39mk \u001b[38;5;129;01mor\u001b[39;00m token \u001b[38;5;129;01min\u001b[39;00m v:\n\u001b[0;32m      8\u001b[0m             \u001b[38;5;28mprint\u001b[39m(\u001b[38;5;124m\"\u001b[39m\u001b[38;5;124mpositive word found:\u001b[39m\u001b[38;5;124m\"\u001b[39m,token)\n",
      "\u001b[1;31mAttributeError\u001b[0m: 'set' object has no attribute 'items'"
     ]
    }
   ],
   "source": [
    "\n",
    "positive_count=0\n",
    "negative_count=0\n",
    "for token in tokenized:\n",
    "    for k,v in positive_dict.items():\n",
    "        if token==k or token in v:\n",
    "            print(\"positive word found:\",token)\n",
    "            positive_count+=1\n",
    "    for k,v in negative_dict.items():\n",
    "         if token==k or token in v:\n",
    "             print(\"negative word found\",token)\n",
    "             negative_count+=1\n",
    "print(negative_count)\n",
    "print(positive_count)"
   ]
  },
  {
   "cell_type": "code",
   "execution_count": null,
   "id": "d5eb5b2c-41af-489c-8be9-507ff39a24b7",
   "metadata": {},
   "outputs": [],
   "source": []
  },
  {
   "cell_type": "code",
   "execution_count": null,
   "id": "d5dbf6b4-4cc5-4ebc-8b1d-35dc7881a041",
   "metadata": {},
   "outputs": [],
   "source": []
  },
  {
   "cell_type": "code",
   "execution_count": null,
   "id": "e228fb86-faab-4843-ad16-503faf3a397c",
   "metadata": {},
   "outputs": [],
   "source": []
  },
  {
   "cell_type": "code",
   "execution_count": null,
   "id": "cb21b374-2366-42a0-99ab-3d0b5b878a7c",
   "metadata": {},
   "outputs": [],
   "source": []
  }
 ],
 "metadata": {
  "kernelspec": {
   "display_name": "Python 3 (ipykernel)",
   "language": "python",
   "name": "python3"
  },
  "language_info": {
   "codemirror_mode": {
    "name": "ipython",
    "version": 3
   },
   "file_extension": ".py",
   "mimetype": "text/x-python",
   "name": "python",
   "nbconvert_exporter": "python",
   "pygments_lexer": "ipython3",
   "version": "3.12.4"
  }
 },
 "nbformat": 4,
 "nbformat_minor": 5
}
